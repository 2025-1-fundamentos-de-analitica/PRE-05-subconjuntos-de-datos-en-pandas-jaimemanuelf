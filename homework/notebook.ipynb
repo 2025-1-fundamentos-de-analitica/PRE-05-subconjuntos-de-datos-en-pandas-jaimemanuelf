{
 "cells": [
  {
   "cell_type": "code",
   "execution_count": 1,
   "id": "4dde8867",
   "metadata": {},
   "outputs": [
    {
     "name": "stdout",
     "output_type": "stream",
     "text": [
      "driverId,eventTime,eventType\n",
      "14,59:21.4,Normal\n",
      "18,59:21.7,Normal\n",
      "27,59:21.7,Normal\n",
      "11,59:21.7,Normal\n",
      "22,59:21.7,Normal\n",
      "22,59:22.3,Normal\n",
      "23,59:22.4,Normal\n",
      "11,59:22.5,Normal\n",
      "20,59:22.5,Normal\n",
      "32,59:22.5,Normal\n"
     ]
    }
   ],
   "source": [
    "\n",
    "\n",
    "# %%\n",
    "import pandas as pd  #  type: ignore\n",
    "\n",
    "pd.set_option(\"display.notebook_repr_html\", False)\n",
    "\n",
    "\n",
    "# %%\n",
    "# Carga del archivo desde un repo en GitHub\n",
    "truck_events = pd.read_csv(\"../files/input/truck_event_text_partition.csv\")\n",
    "\n",
    "# Cabecera del archivo\n",
    "truck_events.head()  \n",
    "\n",
    "\n",
    "# %%\n",
    "# Obtención de un subconjunto de registros\n",
    "truck_events_subset = truck_events[0:10]\n",
    "truck_events_subset\n",
    "\n",
    "\n",
    "\n",
    "# %%\n",
    "# Obtención de un subconjunto de columnas\n",
    "specific_columns = truck_events_subset[[\"driverId\", \"eventTime\", \"eventType\"]]\n",
    "specific_columns\n",
    "\n",
    "\n",
    "\n",
    "# %%\n",
    "# Obtención de un subconjunto de filas y columnas\n",
    "new_sub_set = truck_events.loc[0:10, [\"driverId\", \"eventTime\", \"eventType\"]]\n",
    "new_sub_set\n",
    "\n",
    "\n",
    "# %%\n",
    "# Obtención de un campo de un registro en particular\n",
    "truck_events.iloc[1]\n",
    "\n",
    "\n",
    "# %%\n",
    "# Obtención de un campo de un registro en particular\n",
    "truck_events.iloc[1]\n",
    "\n",
    "\n",
    "# %%\n",
    "truck_events.iloc[1][\"eventKey\"]\n",
    "\n",
    "\n",
    "# %%\n",
    "# Escritura de la tabla en el disco\n",
    "import os\n",
    "\n",
    "if not os.path.exists(\"../files/output/\"):\n",
    "    os.makedirs(\"../files/output/\")\n",
    "\n",
    "specific_columns.to_csv(\n",
    "    \"../files/output/specific-columns.csv\",\n",
    "    sep=\",\",\n",
    "    header=True,\n",
    "    index=False,\n",
    ")\n",
    "!cat ../files/output/specific-columns.csv\n"
   ]
  }
 ],
 "metadata": {
  "kernelspec": {
   "display_name": ".venv",
   "language": "python",
   "name": "python3"
  },
  "language_info": {
   "codemirror_mode": {
    "name": "ipython",
    "version": 3
   },
   "file_extension": ".py",
   "mimetype": "text/x-python",
   "name": "python",
   "nbconvert_exporter": "python",
   "pygments_lexer": "ipython3",
   "version": "3.9.13"
  }
 },
 "nbformat": 4,
 "nbformat_minor": 5
}
